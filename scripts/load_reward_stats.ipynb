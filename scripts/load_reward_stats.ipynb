{
 "cells": [
  {
   "cell_type": "code",
   "execution_count": 26,
   "metadata": {},
   "outputs": [],
   "source": [
    "import numpy as np\n",
    "import os\n",
    "\n",
    "script_dir = os.path.dirname(os.getcwd())\n",
    "training_rewards_path = os.path.join(script_dir, \"training_rewards_42.npy\")\n",
    "evaluation_rewards_path = os.path.join(script_dir, \"evaluation_rewards.npy\")\n",
    "training_rewards = np.load(training_rewards_path)"
   ]
  },
  {
   "cell_type": "code",
   "execution_count": 27,
   "metadata": {},
   "outputs": [],
   "source": [
    "import matplotlib.pyplot as plt"
   ]
  },
  {
   "cell_type": "code",
   "execution_count": 28,
   "metadata": {},
   "outputs": [],
   "source": [
    "import pandas as pd"
   ]
  },
  {
   "cell_type": "code",
   "execution_count": 29,
   "metadata": {},
   "outputs": [],
   "source": [
    "df = pd.DataFrame(training_rewards)"
   ]
  },
  {
   "cell_type": "code",
   "execution_count": 30,
   "metadata": {},
   "outputs": [
    {
     "data": {
      "text/plain": [
       "array([[ 0.00000000e+00,  6.84731794e+01, -8.90000000e+00],\n",
       "       [ 0.00000000e+00,  6.76607192e-01, -1.00000000e-01],\n",
       "       [ 4.51388889e-02,  0.00000000e+00, -1.00000000e+00],\n",
       "       [ 0.00000000e+00,  4.15782690e-01, -1.00000000e-01],\n",
       "       [ 0.00000000e+00,  4.09993410e-01, -1.00000000e-01],\n",
       "       [ 0.00000000e+00,  4.00002819e+01, -8.50000000e+00],\n",
       "       [ 0.00000000e+00,  1.99335218e+02, -3.34000000e+01],\n",
       "       [ 0.00000000e+00,  5.97856045e-01, -1.00000000e-01],\n",
       "       [ 0.00000000e+00,  6.62945509e-01, -1.00000000e-01],\n",
       "       [ 0.00000000e+00,  8.97187701e+02, -1.26700000e+02],\n",
       "       [ 0.00000000e+00,  1.29500544e+00, -3.00000000e-01],\n",
       "       [ 0.00000000e+00,  8.45020533e-01, -2.00000000e-01],\n",
       "       [ 2.00000000e+00,  6.24464543e+02, -7.43000000e+01],\n",
       "       [ 0.00000000e+00,  2.70196765e+01, -3.70000000e+00],\n",
       "       [ 0.00000000e+00,  6.31887406e-01, -1.00000000e-01],\n",
       "       [ 0.00000000e+00,  2.74158205e+02, -3.28000000e+01]])"
      ]
     },
     "execution_count": 30,
     "metadata": {},
     "output_type": "execute_result"
    }
   ],
   "source": [
    "training_rewards"
   ]
  },
  {
   "cell_type": "code",
   "execution_count": 37,
   "metadata": {},
   "outputs": [
    {
     "data": {
      "image/png": "[encoded data removed]",
      "text/plain": [
       "<Figure size 1000x800 with 1 Axes>"
      ]
     },
     "metadata": {},
     "output_type": "display_data"
    }
   ],
   "source": [
    "# Plot boxplots for each column\n",
    "df.boxplot(figsize=(10, 8), grid=False)\n",
    "\n",
    "# Set common labels\n",
    "plt.title('Boxplots of DataFrame Columns')\n",
    "plt.ylabel('Value')\n",
    "\n",
    "# Show the plot\n",
    "plt.tight_layout()\n",
    "plt.show()"
   ]
  },
  {
   "cell_type": "code",
   "execution_count": 38,
   "metadata": {},
   "outputs": [
    {
     "data": {
      "text/html": [
       "<div>\n",
       "<style scoped>\n",
       "    .dataframe tbody tr th:only-of-type {\n",
       "        vertical-align: middle;\n",
       "    }\n",
       "\n",
       "    .dataframe tbody tr th {\n",
       "        vertical-align: top;\n",
       "    }\n",
       "\n",
       "    .dataframe thead th {\n",
       "        text-align: right;\n",
       "    }\n",
       "</style>\n",
       "<table border=\"1\" class=\"dataframe\">\n",
       "  <thead>\n",
       "    <tr style=\"text-align: right;\">\n",
       "      <th></th>\n",
       "      <th>0</th>\n",
       "      <th>1</th>\n",
       "      <th>2</th>\n",
       "    </tr>\n",
       "  </thead>\n",
       "  <tbody>\n",
       "    <tr>\n",
       "      <th>count</th>\n",
       "      <td>16.000000</td>\n",
       "      <td>16.000000</td>\n",
       "      <td>16.000000</td>\n",
       "    </tr>\n",
       "    <tr>\n",
       "      <th>mean</th>\n",
       "      <td>0.127821</td>\n",
       "      <td>133.510869</td>\n",
       "      <td>-18.150000</td>\n",
       "    </tr>\n",
       "    <tr>\n",
       "      <th>std</th>\n",
       "      <td>0.499375</td>\n",
       "      <td>262.249194</td>\n",
       "      <td>35.270724</td>\n",
       "    </tr>\n",
       "    <tr>\n",
       "      <th>min</th>\n",
       "      <td>0.000000</td>\n",
       "      <td>0.000000</td>\n",
       "      <td>-126.700000</td>\n",
       "    </tr>\n",
       "    <tr>\n",
       "      <th>25%</th>\n",
       "      <td>0.000000</td>\n",
       "      <td>0.623380</td>\n",
       "      <td>-14.875000</td>\n",
       "    </tr>\n",
       "    <tr>\n",
       "      <th>50%</th>\n",
       "      <td>0.000000</td>\n",
       "      <td>1.070013</td>\n",
       "      <td>-0.650000</td>\n",
       "    </tr>\n",
       "    <tr>\n",
       "      <th>75%</th>\n",
       "      <td>0.000000</td>\n",
       "      <td>101.188689</td>\n",
       "      <td>-0.100000</td>\n",
       "    </tr>\n",
       "    <tr>\n",
       "      <th>max</th>\n",
       "      <td>2.000000</td>\n",
       "      <td>897.187701</td>\n",
       "      <td>-0.100000</td>\n",
       "    </tr>\n",
       "  </tbody>\n",
       "</table>\n",
       "</div>"
      ],
      "text/plain": [
       "               0           1           2\n",
       "count  16.000000   16.000000   16.000000\n",
       "mean    0.127821  133.510869  -18.150000\n",
       "std     0.499375  262.249194   35.270724\n",
       "min     0.000000    0.000000 -126.700000\n",
       "25%     0.000000    0.623380  -14.875000\n",
       "50%     0.000000    1.070013   -0.650000\n",
       "75%     0.000000  101.188689   -0.100000\n",
       "max     2.000000  897.187701   -0.100000"
      ]
     },
     "execution_count": 38,
     "metadata": {},
     "output_type": "execute_result"
    }
   ],
   "source": [
    "df.describe()"
   ]
  },
  {
   "cell_type": "code",
   "execution_count": null,
   "metadata": {},
   "outputs": [],
   "source": []
  }
 ],
 "metadata": {
  "kernelspec": {
   "display_name": "repl",
   "language": "python",
   "name": "python3"
  },
  "language_info": {
   "codemirror_mode": {
    "name": "ipython",
    "version": 3
   },
   "file_extension": ".py",
   "mimetype": "text/x-python",
   "name": "python",
   "nbconvert_exporter": "python",
   "pygments_lexer": "ipython3",
   "version": "3.12.4"
  }
 },
 "nbformat": 4,
 "nbformat_minor": 2
}
