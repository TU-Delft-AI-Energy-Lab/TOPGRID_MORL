{
 "cells": [
  {
   "cell_type": "code",
   "execution_count": 1,
   "metadata": {},
   "outputs": [
    {
     "name": "stderr",
     "output_type": "stream",
     "text": [
      "c:\\Users\\thoma\\anaconda3\\envs\\TOPGRID_MORL\\Lib\\site-packages\\grid2op\\Backend\\pandaPowerBackend.py:32: UserWarning: Numba cannot be loaded. You will gain possibly massive speed if installing it by \n",
      "\tc:\\Users\\thoma\\anaconda3\\envs\\TOPGRID_MORL\\python.exe -m pip install numba\n",
      "\n",
      "  warnings.warn(\n"
     ]
    }
   ],
   "source": [
    "import numpy as np\n",
    "from topgrid_morl.env.EnvSetup import setup_environment # Assuming this function sets up environment variables\n",
    "from topgrid_morl.utils.MO_PPO_train_utils import initialize_network, train_agent, train_and_save_donothing_agent  # Functions for network initialization and training"
   ]
  },
  {
   "cell_type": "markdown",
   "metadata": {},
   "source": [
    "Import Rewards      "
   ]
  },
  {
   "cell_type": "code",
   "execution_count": 2,
   "metadata": {},
   "outputs": [],
   "source": [
    "from topgrid_morl.env.MO_Rewards import TopoActionReward, MaxDistanceReward\n",
    "from grid2op.Reward import DistanceReward, L2RPNReward"
   ]
  },
  {
   "cell_type": "code",
   "execution_count": 3,
   "metadata": {},
   "outputs": [
    {
     "ename": "AttributeError",
     "evalue": "'ActionSpace_l2rpn_case14_sandbox' object has no attribute 'from_gym'",
     "output_type": "error",
     "traceback": [
      "\u001b[1;31m---------------------------------------------------------------------------\u001b[0m",
      "\u001b[1;31mAttributeError\u001b[0m                            Traceback (most recent call last)",
      "Cell \u001b[1;32mIn[3], line 1\u001b[0m\n\u001b[1;32m----> 1\u001b[0m gym_env, obs_dim, action_dim, reward_dim \u001b[38;5;241m=\u001b[39m \u001b[43msetup_environment\u001b[49m\u001b[43m(\u001b[49m\u001b[43mfrist_reward\u001b[49m\u001b[43m \u001b[49m\u001b[38;5;241;43m=\u001b[39;49m\u001b[43m \u001b[49m\u001b[43mL2RPNReward\u001b[49m\u001b[43m,\u001b[49m\u001b[43m \u001b[49m\u001b[43mrewards_list\u001b[49m\u001b[38;5;241;43m=\u001b[39;49m\u001b[43m[\u001b[49m\u001b[38;5;124;43m\"\u001b[39;49m\u001b[38;5;124;43mDistance\u001b[39;49m\u001b[38;5;124;43m\"\u001b[39;49m\u001b[43m,\u001b[49m\u001b[43m \u001b[49m\u001b[38;5;124;43m\"\u001b[39;49m\u001b[38;5;124;43mTopoAction\u001b[39;49m\u001b[38;5;124;43m\"\u001b[39;49m\u001b[43m]\u001b[49m\u001b[43m)\u001b[49m\n",
      "File \u001b[1;32mc:\\Users\\thoma\\MA\\TOPGRID-MORL\\MO_PPO_EnvSetup.py:26\u001b[0m, in \u001b[0;36msetup_environment\u001b[1;34m(env_name, frist_reward, rewards_list)\u001b[0m\n\u001b[0;32m     12\u001b[0m \u001b[38;5;250m\u001b[39m\u001b[38;5;124;03m\"\"\"\u001b[39;00m\n\u001b[0;32m     13\u001b[0m \u001b[38;5;124;03mSets up the Grid2Op environment with the specified rewards and returns the Gym-compatible environment and reward dimension.\u001b[39;00m\n\u001b[0;32m     14\u001b[0m \n\u001b[1;32m   (...)\u001b[0m\n\u001b[0;32m     22\u001b[0m \u001b[38;5;124;03m- reward_dim (int): Dimension of the reward vector (number of rewards + 1).\u001b[39;00m\n\u001b[0;32m     23\u001b[0m \u001b[38;5;124;03m\"\"\"\u001b[39;00m\n\u001b[0;32m     25\u001b[0m \u001b[38;5;66;03m# Create environment\u001b[39;00m\n\u001b[1;32m---> 26\u001b[0m env \u001b[38;5;241m=\u001b[39m \u001b[43mgrid2op\u001b[49m\u001b[38;5;241;43m.\u001b[39;49m\u001b[43mmake\u001b[49m\u001b[43m(\u001b[49m\u001b[43menv_name\u001b[49m\u001b[43m,\u001b[49m\u001b[43m \u001b[49m\u001b[43mbackend\u001b[49m\u001b[38;5;241;43m=\u001b[39;49m\u001b[43mLightSimBackend\u001b[49m\u001b[43m(\u001b[49m\u001b[43m)\u001b[49m\u001b[43m,\u001b[49m\u001b[43m \u001b[49m\u001b[43mreward_class\u001b[49m\u001b[38;5;241;43m=\u001b[39;49m\u001b[43mfrist_reward\u001b[49m\u001b[43m,\u001b[49m\n\u001b[0;32m     27\u001b[0m \u001b[43m                   \u001b[49m\u001b[43mother_rewards\u001b[49m\u001b[38;5;241;43m=\u001b[39;49m\u001b[43m{\u001b[49m\u001b[43mreward_name\u001b[49m\u001b[43m:\u001b[49m\u001b[43m \u001b[49m\u001b[38;5;28;43mglobals\u001b[39;49m\u001b[43m(\u001b[49m\u001b[43m)\u001b[49m\u001b[43m[\u001b[49m\u001b[43mreward_name\u001b[49m\u001b[43m \u001b[49m\u001b[38;5;241;43m+\u001b[39;49m\u001b[43m \u001b[49m\u001b[38;5;124;43m'\u001b[39;49m\u001b[38;5;124;43mReward\u001b[39;49m\u001b[38;5;124;43m'\u001b[39;49m\u001b[43m]\u001b[49m\u001b[43m \u001b[49m\u001b[38;5;28;43;01mfor\u001b[39;49;00m\u001b[43m \u001b[49m\u001b[43mreward_name\u001b[49m\u001b[43m \u001b[49m\u001b[38;5;129;43;01min\u001b[39;49;00m\u001b[43m \u001b[49m\u001b[43mrewards_list\u001b[49m\u001b[43m}\u001b[49m\u001b[43m)\u001b[49m\n\u001b[0;32m     29\u001b[0m \u001b[38;5;66;03m# Use custom Gym environment if provided\u001b[39;00m\n\u001b[0;32m     30\u001b[0m gym_env \u001b[38;5;241m=\u001b[39m CustomGymEnv(env)\n",
      "File \u001b[1;32mc:\\Users\\thoma\\anaconda3\\envs\\TOPGRID_MORL\\Lib\\site-packages\\grid2op\\MakeEnv\\Make.py:473\u001b[0m, in \u001b[0;36mmake\u001b[1;34m(dataset, test, logger, experimental_read_from_local_dir, n_busbar, _add_to_name, _compat_glop_version, **kwargs)\u001b[0m\n\u001b[0;32m    471\u001b[0m     \u001b[38;5;28;01mif\u001b[39;00m _aux_is_multimix(real_ds_path):\n\u001b[0;32m    472\u001b[0m         make_from_path_fn \u001b[38;5;241m=\u001b[39m _aux_make_multimix\n\u001b[1;32m--> 473\u001b[0m     \u001b[38;5;28;01mreturn\u001b[39;00m \u001b[43mmake_from_path_fn\u001b[49m\u001b[43m(\u001b[49m\n\u001b[0;32m    474\u001b[0m \u001b[43m        \u001b[49m\u001b[43mreal_ds_path\u001b[49m\u001b[43m,\u001b[49m\n\u001b[0;32m    475\u001b[0m \u001b[43m        \u001b[49m\u001b[43mlogger\u001b[49m\u001b[38;5;241;43m=\u001b[39;49m\u001b[43mlogger\u001b[49m\u001b[43m,\u001b[49m\n\u001b[0;32m    476\u001b[0m \u001b[43m        \u001b[49m\u001b[43mn_busbar\u001b[49m\u001b[38;5;241;43m=\u001b[39;49m\u001b[43mn_busbar\u001b[49m\u001b[43m,\u001b[49m\n\u001b[0;32m    477\u001b[0m \u001b[43m        \u001b[49m\u001b[43mexperimental_read_from_local_dir\u001b[49m\u001b[38;5;241;43m=\u001b[39;49m\u001b[43mexperimental_read_from_local_dir\u001b[49m\u001b[43m,\u001b[49m\n\u001b[0;32m    478\u001b[0m \u001b[43m        \u001b[49m\u001b[38;5;241;43m*\u001b[39;49m\u001b[38;5;241;43m*\u001b[39;49m\u001b[43mkwargs\u001b[49m\n\u001b[0;32m    479\u001b[0m \u001b[43m    \u001b[49m\u001b[43m)\u001b[49m\n\u001b[0;32m    481\u001b[0m \u001b[38;5;66;03m# Env needs to be downloaded\u001b[39;00m\n\u001b[0;32m    482\u001b[0m warnings\u001b[38;5;241m.\u001b[39mwarn(_MAKE_FIRST_TIME_WARN\u001b[38;5;241m.\u001b[39mformat(dataset_name))\n",
      "File \u001b[1;32mc:\\Users\\thoma\\anaconda3\\envs\\TOPGRID_MORL\\Lib\\site-packages\\grid2op\\MakeEnv\\MakeFromPath.py:980\u001b[0m, in \u001b[0;36mmake_from_dataset_path\u001b[1;34m(dataset_path, logger, experimental_read_from_local_dir, n_busbar, _add_to_name, _compat_glop_version, **kwargs)\u001b[0m\n\u001b[0;32m    971\u001b[0m             \u001b[38;5;28;01mraise\u001b[39;00m \u001b[38;5;167;01mRuntimeError\u001b[39;00m(\n\u001b[0;32m    972\u001b[0m                 \u001b[38;5;124mf\u001b[39m\u001b[38;5;124m\"\u001b[39m\u001b[38;5;124mImpossible to load the classes from the env path. There is something that is \u001b[39m\u001b[38;5;124m\"\u001b[39m\n\u001b[0;32m    973\u001b[0m                 \u001b[38;5;124mf\u001b[39m\u001b[38;5;124m\"\u001b[39m\u001b[38;5;124mnot a directory and that is called `_grid2op_classes`. \u001b[39m\u001b[38;5;124m\"\u001b[39m\n\u001b[0;32m    974\u001b[0m                 \u001b[38;5;124mf\u001b[39m\u001b[38;5;124m'\u001b[39m\u001b[38;5;124mPlease remove \u001b[39m\u001b[38;5;124m\"\u001b[39m\u001b[38;5;132;01m{\u001b[39;00msys_path\u001b[38;5;132;01m}\u001b[39;00m\u001b[38;5;124m\"\u001b[39m\u001b[38;5;124m and call `env.generate_classes()` where env is an \u001b[39m\u001b[38;5;124m'\u001b[39m\n\u001b[0;32m    975\u001b[0m                 \u001b[38;5;124mf\u001b[39m\u001b[38;5;124m\"\u001b[39m\u001b[38;5;124menvironment created with `experimental_read_from_local_dir=False` (default)\u001b[39m\u001b[38;5;124m\"\u001b[39m\n\u001b[0;32m    976\u001b[0m             )\n\u001b[0;32m    978\u001b[0m \u001b[38;5;66;03m# Finally instantiate env from config & overrides\u001b[39;00m\n\u001b[0;32m    979\u001b[0m \u001b[38;5;66;03m# including (if activated the new grid2op behaviour)\u001b[39;00m\n\u001b[1;32m--> 980\u001b[0m env \u001b[38;5;241m=\u001b[39m \u001b[43mEnvironment\u001b[49m\u001b[43m(\u001b[49m\n\u001b[0;32m    981\u001b[0m \u001b[43m    \u001b[49m\u001b[43minit_env_path\u001b[49m\u001b[38;5;241;43m=\u001b[39;49m\u001b[43mos\u001b[49m\u001b[38;5;241;43m.\u001b[39;49m\u001b[43mpath\u001b[49m\u001b[38;5;241;43m.\u001b[39;49m\u001b[43mabspath\u001b[49m\u001b[43m(\u001b[49m\u001b[43mdataset_path\u001b[49m\u001b[43m)\u001b[49m\u001b[43m,\u001b[49m\n\u001b[0;32m    982\u001b[0m \u001b[43m    \u001b[49m\u001b[43minit_grid_path\u001b[49m\u001b[38;5;241;43m=\u001b[39;49m\u001b[43mgrid_path_abs\u001b[49m\u001b[43m,\u001b[49m\n\u001b[0;32m    983\u001b[0m \u001b[43m    \u001b[49m\u001b[43mchronics_handler\u001b[49m\u001b[38;5;241;43m=\u001b[39;49m\u001b[43mdata_feeding\u001b[49m\u001b[43m,\u001b[49m\n\u001b[0;32m    984\u001b[0m \u001b[43m    \u001b[49m\u001b[43mbackend\u001b[49m\u001b[38;5;241;43m=\u001b[39;49m\u001b[43mbackend\u001b[49m\u001b[43m,\u001b[49m\n\u001b[0;32m    985\u001b[0m \u001b[43m    \u001b[49m\u001b[43mparameters\u001b[49m\u001b[38;5;241;43m=\u001b[39;49m\u001b[43mparam\u001b[49m\u001b[43m,\u001b[49m\n\u001b[0;32m    986\u001b[0m \u001b[43m    \u001b[49m\u001b[43mname\u001b[49m\u001b[38;5;241;43m=\u001b[39;49m\u001b[43mname_env\u001b[49m\u001b[43m \u001b[49m\u001b[38;5;241;43m+\u001b[39;49m\u001b[43m \u001b[49m\u001b[43m_add_to_name\u001b[49m\u001b[43m,\u001b[49m\n\u001b[0;32m    987\u001b[0m \u001b[43m    \u001b[49m\u001b[43mnames_chronics_to_backend\u001b[49m\u001b[38;5;241;43m=\u001b[39;49m\u001b[43mnames_chronics_to_backend\u001b[49m\u001b[43m,\u001b[49m\n\u001b[0;32m    988\u001b[0m \u001b[43m    \u001b[49m\u001b[43mactionClass\u001b[49m\u001b[38;5;241;43m=\u001b[39;49m\u001b[43maction_class\u001b[49m\u001b[43m,\u001b[49m\n\u001b[0;32m    989\u001b[0m \u001b[43m    \u001b[49m\u001b[43mobservationClass\u001b[49m\u001b[38;5;241;43m=\u001b[39;49m\u001b[43mobservation_class\u001b[49m\u001b[43m,\u001b[49m\n\u001b[0;32m    990\u001b[0m \u001b[43m    \u001b[49m\u001b[43mrewardClass\u001b[49m\u001b[38;5;241;43m=\u001b[39;49m\u001b[43mreward_class\u001b[49m\u001b[43m,\u001b[49m\n\u001b[0;32m    991\u001b[0m \u001b[43m    \u001b[49m\u001b[43mlegalActClass\u001b[49m\u001b[38;5;241;43m=\u001b[39;49m\u001b[43mgamerules_class\u001b[49m\u001b[43m,\u001b[49m\n\u001b[0;32m    992\u001b[0m \u001b[43m    \u001b[49m\u001b[43mvoltagecontrolerClass\u001b[49m\u001b[38;5;241;43m=\u001b[39;49m\u001b[43mvolagecontroler_class\u001b[49m\u001b[43m,\u001b[49m\n\u001b[0;32m    993\u001b[0m \u001b[43m    \u001b[49m\u001b[43mother_rewards\u001b[49m\u001b[38;5;241;43m=\u001b[39;49m\u001b[43mother_rewards\u001b[49m\u001b[43m,\u001b[49m\n\u001b[0;32m    994\u001b[0m \u001b[43m    \u001b[49m\u001b[43mopponent_space_type\u001b[49m\u001b[38;5;241;43m=\u001b[39;49m\u001b[43mopponent_space_type\u001b[49m\u001b[43m,\u001b[49m\n\u001b[0;32m    995\u001b[0m \u001b[43m    \u001b[49m\u001b[43mopponent_action_class\u001b[49m\u001b[38;5;241;43m=\u001b[39;49m\u001b[43mopponent_action_class\u001b[49m\u001b[43m,\u001b[49m\n\u001b[0;32m    996\u001b[0m \u001b[43m    \u001b[49m\u001b[43mopponent_class\u001b[49m\u001b[38;5;241;43m=\u001b[39;49m\u001b[43mopponent_class\u001b[49m\u001b[43m,\u001b[49m\n\u001b[0;32m    997\u001b[0m \u001b[43m    \u001b[49m\u001b[43mopponent_init_budget\u001b[49m\u001b[38;5;241;43m=\u001b[39;49m\u001b[43mopponent_init_budget\u001b[49m\u001b[43m,\u001b[49m\n\u001b[0;32m    998\u001b[0m \u001b[43m    \u001b[49m\u001b[43mopponent_attack_duration\u001b[49m\u001b[38;5;241;43m=\u001b[39;49m\u001b[43mopponent_attack_duration\u001b[49m\u001b[43m,\u001b[49m\n\u001b[0;32m    999\u001b[0m \u001b[43m    \u001b[49m\u001b[43mopponent_attack_cooldown\u001b[49m\u001b[38;5;241;43m=\u001b[39;49m\u001b[43mopponent_attack_cooldown\u001b[49m\u001b[43m,\u001b[49m\n\u001b[0;32m   1000\u001b[0m \u001b[43m    \u001b[49m\u001b[43mopponent_budget_per_ts\u001b[49m\u001b[38;5;241;43m=\u001b[39;49m\u001b[43mopponent_budget_per_ts\u001b[49m\u001b[43m,\u001b[49m\n\u001b[0;32m   1001\u001b[0m \u001b[43m    \u001b[49m\u001b[43mopponent_budget_class\u001b[49m\u001b[38;5;241;43m=\u001b[39;49m\u001b[43mopponent_budget_class\u001b[49m\u001b[43m,\u001b[49m\n\u001b[0;32m   1002\u001b[0m \u001b[43m    \u001b[49m\u001b[43mkwargs_opponent\u001b[49m\u001b[38;5;241;43m=\u001b[39;49m\u001b[43mkwargs_opponent\u001b[49m\u001b[43m,\u001b[49m\n\u001b[0;32m   1003\u001b[0m \u001b[43m    \u001b[49m\u001b[43mhas_attention_budget\u001b[49m\u001b[38;5;241;43m=\u001b[39;49m\u001b[43mhas_attention_budget\u001b[49m\u001b[43m,\u001b[49m\n\u001b[0;32m   1004\u001b[0m \u001b[43m    \u001b[49m\u001b[43mattention_budget_cls\u001b[49m\u001b[38;5;241;43m=\u001b[39;49m\u001b[43mattention_budget_class\u001b[49m\u001b[43m,\u001b[49m\n\u001b[0;32m   1005\u001b[0m \u001b[43m    \u001b[49m\u001b[43mkwargs_attention_budget\u001b[49m\u001b[38;5;241;43m=\u001b[39;49m\u001b[43mkwargs_attention_budget\u001b[49m\u001b[43m,\u001b[49m\n\u001b[0;32m   1006\u001b[0m \u001b[43m    \u001b[49m\u001b[43mlogger\u001b[49m\u001b[38;5;241;43m=\u001b[39;49m\u001b[43mlogger\u001b[49m\u001b[43m,\u001b[49m\n\u001b[0;32m   1007\u001b[0m \u001b[43m    \u001b[49m\u001b[43mn_busbar\u001b[49m\u001b[38;5;241;43m=\u001b[39;49m\u001b[43mn_busbar\u001b[49m\u001b[43m,\u001b[49m\n\u001b[0;32m   1008\u001b[0m \u001b[43m    \u001b[49m\u001b[43m_compat_glop_version\u001b[49m\u001b[38;5;241;43m=\u001b[39;49m\u001b[43m_compat_glop_version\u001b[49m\u001b[43m,\u001b[49m\n\u001b[0;32m   1009\u001b[0m \u001b[43m    \u001b[49m\u001b[43m_read_from_local_dir\u001b[49m\u001b[38;5;241;43m=\u001b[39;49m\u001b[43mclasses_path\u001b[49m\u001b[43m,\u001b[49m\n\u001b[0;32m   1010\u001b[0m \u001b[43m    \u001b[49m\u001b[43m_allow_loaded_backend\u001b[49m\u001b[38;5;241;43m=\u001b[39;49m\u001b[43mallow_loaded_backend\u001b[49m\u001b[43m,\u001b[49m\n\u001b[0;32m   1011\u001b[0m \u001b[43m    \u001b[49m\u001b[43mkwargs_observation\u001b[49m\u001b[38;5;241;43m=\u001b[39;49m\u001b[43mkwargs_observation\u001b[49m\u001b[43m,\u001b[49m\n\u001b[0;32m   1012\u001b[0m \u001b[43m    \u001b[49m\u001b[43mobservation_bk_class\u001b[49m\u001b[38;5;241;43m=\u001b[39;49m\u001b[43mobservation_backend_class\u001b[49m\u001b[43m,\u001b[49m\n\u001b[0;32m   1013\u001b[0m \u001b[43m    \u001b[49m\u001b[43mobservation_bk_kwargs\u001b[49m\u001b[38;5;241;43m=\u001b[39;49m\u001b[43mobservation_backend_kwargs\u001b[49m\u001b[43m,\u001b[49m\n\u001b[0;32m   1014\u001b[0m \u001b[43m\u001b[49m\u001b[43m)\u001b[49m\n\u001b[0;32m   1016\u001b[0m \u001b[38;5;66;03m# Update the thermal limit if any\u001b[39;00m\n\u001b[0;32m   1017\u001b[0m \u001b[38;5;28;01mif\u001b[39;00m thermal_limits \u001b[38;5;129;01mis\u001b[39;00m \u001b[38;5;129;01mnot\u001b[39;00m \u001b[38;5;28;01mNone\u001b[39;00m:\n",
      "File \u001b[1;32mc:\\Users\\thoma\\anaconda3\\envs\\TOPGRID_MORL\\Lib\\site-packages\\grid2op\\Environment\\environment.py:185\u001b[0m, in \u001b[0;36mEnvironment.__init__\u001b[1;34m(self, init_env_path, init_grid_path, chronics_handler, backend, parameters, name, n_busbar, names_chronics_to_backend, actionClass, observationClass, rewardClass, legalActClass, voltagecontrolerClass, other_rewards, thermal_limit_a, with_forecast, epsilon_poly, tol_poly, opponent_space_type, opponent_action_class, opponent_class, opponent_init_budget, opponent_budget_per_ts, opponent_budget_class, opponent_attack_duration, opponent_attack_cooldown, kwargs_opponent, attention_budget_cls, kwargs_attention_budget, has_attention_budget, logger, kwargs_observation, observation_bk_class, observation_bk_kwargs, highres_sim_counter, _update_obs_after_reward, _init_obs, _raw_backend_class, _compat_glop_version, _read_from_local_dir, _is_test, _allow_loaded_backend)\u001b[0m\n\u001b[0;32m    182\u001b[0m \u001b[38;5;28mself\u001b[39m\u001b[38;5;241m.\u001b[39m_compat_glop_version \u001b[38;5;241m=\u001b[39m _compat_glop_version\n\u001b[0;32m    184\u001b[0m \u001b[38;5;66;03m# for plotting\u001b[39;00m\n\u001b[1;32m--> 185\u001b[0m \u001b[38;5;28;43mself\u001b[39;49m\u001b[38;5;241;43m.\u001b[39;49m\u001b[43m_init_backend\u001b[49m\u001b[43m(\u001b[49m\n\u001b[0;32m    186\u001b[0m \u001b[43m    \u001b[49m\u001b[43mchronics_handler\u001b[49m\u001b[43m,\u001b[49m\n\u001b[0;32m    187\u001b[0m \u001b[43m    \u001b[49m\u001b[43mbackend\u001b[49m\u001b[43m,\u001b[49m\n\u001b[0;32m    188\u001b[0m \u001b[43m    \u001b[49m\u001b[43mnames_chronics_to_backend\u001b[49m\u001b[43m,\u001b[49m\n\u001b[0;32m    189\u001b[0m \u001b[43m    \u001b[49m\u001b[43mactionClass\u001b[49m\u001b[43m,\u001b[49m\n\u001b[0;32m    190\u001b[0m \u001b[43m    \u001b[49m\u001b[43mobservationClass\u001b[49m\u001b[43m,\u001b[49m\n\u001b[0;32m    191\u001b[0m \u001b[43m    \u001b[49m\u001b[43mrewardClass\u001b[49m\u001b[43m,\u001b[49m\n\u001b[0;32m    192\u001b[0m \u001b[43m    \u001b[49m\u001b[43mlegalActClass\u001b[49m\u001b[43m,\u001b[49m\n\u001b[0;32m    193\u001b[0m \u001b[43m\u001b[49m\u001b[43m)\u001b[49m\n\u001b[0;32m    194\u001b[0m \u001b[38;5;28mself\u001b[39m\u001b[38;5;241m.\u001b[39m_actionClass_orig \u001b[38;5;241m=\u001b[39m actionClass\n\u001b[0;32m    195\u001b[0m \u001b[38;5;28mself\u001b[39m\u001b[38;5;241m.\u001b[39m_observationClass_orig \u001b[38;5;241m=\u001b[39m observationClass\n",
      "File \u001b[1;32mc:\\Users\\thoma\\anaconda3\\envs\\TOPGRID_MORL\\Lib\\site-packages\\grid2op\\Environment\\environment.py:443\u001b[0m, in \u001b[0;36mEnvironment._init_backend\u001b[1;34m(self, chronics_handler, backend, names_chronics_to_backend, actionClass, observationClass, rewardClass, legalActClass)\u001b[0m\n\u001b[0;32m    441\u001b[0m \u001b[38;5;28mself\u001b[39m\u001b[38;5;241m.\u001b[39m_reward_to_obs \u001b[38;5;241m=\u001b[39m {}\n\u001b[0;32m    442\u001b[0m do_nothing \u001b[38;5;241m=\u001b[39m \u001b[38;5;28mself\u001b[39m\u001b[38;5;241m.\u001b[39m_helper_action_env({})\n\u001b[1;32m--> 443\u001b[0m \u001b[38;5;241m*\u001b[39m_, fail_to_start, info \u001b[38;5;241m=\u001b[39m \u001b[38;5;28;43mself\u001b[39;49m\u001b[38;5;241;43m.\u001b[39;49m\u001b[43mstep\u001b[49m\u001b[43m(\u001b[49m\u001b[43mdo_nothing\u001b[49m\u001b[43m)\u001b[49m\n\u001b[0;32m    444\u001b[0m \u001b[38;5;28;01mif\u001b[39;00m fail_to_start:\n\u001b[0;32m    445\u001b[0m     \u001b[38;5;28;01mraise\u001b[39;00m Grid2OpException(\n\u001b[0;32m    446\u001b[0m         \u001b[38;5;124m\"\u001b[39m\u001b[38;5;124mImpossible to initialize the powergrid, the powerflow diverge at iteration 0. \u001b[39m\u001b[38;5;124m\"\u001b[39m\n\u001b[0;32m    447\u001b[0m         \u001b[38;5;124m\"\u001b[39m\u001b[38;5;124mAvailable information are: \u001b[39m\u001b[38;5;132;01m{}\u001b[39;00m\u001b[38;5;124m\"\u001b[39m\u001b[38;5;241m.\u001b[39mformat(info)\n\u001b[0;32m    448\u001b[0m     ) \u001b[38;5;28;01mfrom\u001b[39;00m \u001b[38;5;21;01minfo\u001b[39;00m[\u001b[38;5;124m\"\u001b[39m\u001b[38;5;124mexception\u001b[39m\u001b[38;5;124m\"\u001b[39m][\u001b[38;5;241m0\u001b[39m]\n",
      "File \u001b[1;32mc:\\Users\\thoma\\anaconda3\\envs\\TOPGRID_MORL\\Lib\\site-packages\\grid2op\\Environment\\baseEnv.py:3391\u001b[0m, in \u001b[0;36mBaseEnv.step\u001b[1;34m(self, action)\u001b[0m\n\u001b[0;32m   3388\u001b[0m     \u001b[38;5;28mself\u001b[39m\u001b[38;5;241m.\u001b[39minfos[\u001b[38;5;124m\"\u001b[39m\u001b[38;5;124mdetailed_infos_for_cascading_failures\u001b[39m\u001b[38;5;124m\"\u001b[39m] \u001b[38;5;241m=\u001b[39m detailed_info\n\u001b[0;32m   3390\u001b[0m \u001b[38;5;28mself\u001b[39m\u001b[38;5;241m.\u001b[39mdone \u001b[38;5;241m=\u001b[39m \u001b[38;5;28mself\u001b[39m\u001b[38;5;241m.\u001b[39m_is_done(has_error, is_done)\n\u001b[1;32m-> 3391\u001b[0m \u001b[38;5;28mself\u001b[39m\u001b[38;5;241m.\u001b[39mcurrent_reward, other_reward \u001b[38;5;241m=\u001b[39m \u001b[38;5;28;43mself\u001b[39;49m\u001b[38;5;241;43m.\u001b[39;49m\u001b[43m_get_reward\u001b[49m\u001b[43m(\u001b[49m\n\u001b[0;32m   3392\u001b[0m \u001b[43m    \u001b[49m\u001b[43maction\u001b[49m\u001b[43m,\u001b[49m\n\u001b[0;32m   3393\u001b[0m \u001b[43m    \u001b[49m\u001b[43mhas_error\u001b[49m\u001b[43m,\u001b[49m\n\u001b[0;32m   3394\u001b[0m \u001b[43m    \u001b[49m\u001b[38;5;28;43mself\u001b[39;49m\u001b[38;5;241;43m.\u001b[39;49m\u001b[43mdone\u001b[49m\u001b[43m,\u001b[49m\u001b[43m  \u001b[49m\u001b[38;5;66;43;03m# is_done\u001b[39;49;00m\n\u001b[0;32m   3395\u001b[0m \u001b[43m    \u001b[49m\u001b[43mis_illegal\u001b[49m\u001b[43m \u001b[49m\u001b[38;5;129;43;01mor\u001b[39;49;00m\u001b[43m \u001b[49m\u001b[43mis_illegal_redisp\u001b[49m\u001b[43m \u001b[49m\u001b[38;5;129;43;01mor\u001b[39;49;00m\u001b[43m \u001b[49m\u001b[43mis_illegal_reco\u001b[49m\u001b[43m,\u001b[49m\n\u001b[0;32m   3396\u001b[0m \u001b[43m    \u001b[49m\u001b[43mis_ambiguous\u001b[49m\u001b[43m,\u001b[49m\n\u001b[0;32m   3397\u001b[0m \u001b[43m\u001b[49m\u001b[43m)\u001b[49m\n\u001b[0;32m   3398\u001b[0m \u001b[38;5;28mself\u001b[39m\u001b[38;5;241m.\u001b[39minfos[\u001b[38;5;124m\"\u001b[39m\u001b[38;5;124mrewards\u001b[39m\u001b[38;5;124m\"\u001b[39m] \u001b[38;5;241m=\u001b[39m other_reward\n\u001b[0;32m   3399\u001b[0m \u001b[38;5;28;01mif\u001b[39;00m has_error \u001b[38;5;129;01mand\u001b[39;00m \u001b[38;5;28mself\u001b[39m\u001b[38;5;241m.\u001b[39mcurrent_obs \u001b[38;5;129;01mis\u001b[39;00m \u001b[38;5;129;01mnot\u001b[39;00m \u001b[38;5;28;01mNone\u001b[39;00m:\n\u001b[0;32m   3400\u001b[0m     \u001b[38;5;66;03m# forward to the observation if an alarm is used or not\u001b[39;00m\n",
      "File \u001b[1;32mc:\\Users\\thoma\\anaconda3\\envs\\TOPGRID_MORL\\Lib\\site-packages\\grid2op\\Environment\\baseEnv.py:3427\u001b[0m, in \u001b[0;36mBaseEnv._get_reward\u001b[1;34m(self, action, has_error, is_done, is_illegal, is_ambiguous)\u001b[0m\n\u001b[0;32m   3422\u001b[0m \u001b[38;5;28;01mdef\u001b[39;00m \u001b[38;5;21m_get_reward\u001b[39m(\u001b[38;5;28mself\u001b[39m, action, has_error, is_done, is_illegal, is_ambiguous):\n\u001b[0;32m   3423\u001b[0m     res \u001b[38;5;241m=\u001b[39m \u001b[38;5;28mself\u001b[39m\u001b[38;5;241m.\u001b[39m_reward_helper(\n\u001b[0;32m   3424\u001b[0m         action, \u001b[38;5;28mself\u001b[39m, has_error, is_done, is_illegal, is_ambiguous\n\u001b[0;32m   3425\u001b[0m     )\n\u001b[0;32m   3426\u001b[0m     other_rewards \u001b[38;5;241m=\u001b[39m {\n\u001b[1;32m-> 3427\u001b[0m         k: \u001b[43mv\u001b[49m\u001b[43m(\u001b[49m\u001b[43maction\u001b[49m\u001b[43m,\u001b[49m\u001b[43m \u001b[49m\u001b[38;5;28;43mself\u001b[39;49m\u001b[43m,\u001b[49m\u001b[43m \u001b[49m\u001b[43mhas_error\u001b[49m\u001b[43m,\u001b[49m\u001b[43m \u001b[49m\u001b[43mis_done\u001b[49m\u001b[43m,\u001b[49m\u001b[43m \u001b[49m\u001b[43mis_illegal\u001b[49m\u001b[43m,\u001b[49m\u001b[43m \u001b[49m\u001b[43mis_ambiguous\u001b[49m\u001b[43m)\u001b[49m\n\u001b[0;32m   3428\u001b[0m         \u001b[38;5;28;01mfor\u001b[39;00m k, v \u001b[38;5;129;01min\u001b[39;00m \u001b[38;5;28mself\u001b[39m\u001b[38;5;241m.\u001b[39mother_rewards\u001b[38;5;241m.\u001b[39mitems()\n\u001b[0;32m   3429\u001b[0m     }\n\u001b[0;32m   3430\u001b[0m     \u001b[38;5;28;01mreturn\u001b[39;00m res, other_rewards\n",
      "File \u001b[1;32mc:\\Users\\thoma\\anaconda3\\envs\\TOPGRID_MORL\\Lib\\site-packages\\grid2op\\Reward\\rewardHelper.py:107\u001b[0m, in \u001b[0;36mRewardHelper.__call__\u001b[1;34m(self, action, env, has_error, is_done, is_illegal, is_ambiguous)\u001b[0m\n\u001b[0;32m     73\u001b[0m \u001b[38;5;28;01mdef\u001b[39;00m \u001b[38;5;21m__call__\u001b[39m(\u001b[38;5;28mself\u001b[39m, action, env, has_error, is_done, is_illegal, is_ambiguous):\n\u001b[0;32m     74\u001b[0m \u001b[38;5;250m    \u001b[39m\u001b[38;5;124;03m\"\"\"\u001b[39;00m\n\u001b[0;32m     75\u001b[0m \u001b[38;5;124;03m    Gives the reward that follows the execution of the :class:`grid2op.BaseAction.BaseAction` action in the\u001b[39;00m\n\u001b[0;32m     76\u001b[0m \u001b[38;5;124;03m    :class:`grid2op.Environment.Environment` env;\u001b[39;00m\n\u001b[1;32m   (...)\u001b[0m\n\u001b[0;32m    105\u001b[0m \n\u001b[0;32m    106\u001b[0m \u001b[38;5;124;03m    \"\"\"\u001b[39;00m\n\u001b[1;32m--> 107\u001b[0m     res \u001b[38;5;241m=\u001b[39m \u001b[38;5;28;43mself\u001b[39;49m\u001b[38;5;241;43m.\u001b[39;49m\u001b[43mtemplate_reward\u001b[49m\u001b[43m(\u001b[49m\n\u001b[0;32m    108\u001b[0m \u001b[43m        \u001b[49m\u001b[43maction\u001b[49m\u001b[43m,\u001b[49m\u001b[43m \u001b[49m\u001b[43menv\u001b[49m\u001b[43m,\u001b[49m\u001b[43m \u001b[49m\u001b[43mhas_error\u001b[49m\u001b[43m,\u001b[49m\u001b[43m \u001b[49m\u001b[43mis_done\u001b[49m\u001b[43m,\u001b[49m\u001b[43m \u001b[49m\u001b[43mis_illegal\u001b[49m\u001b[43m,\u001b[49m\u001b[43m \u001b[49m\u001b[43mis_ambiguous\u001b[49m\n\u001b[0;32m    109\u001b[0m \u001b[43m    \u001b[49m\u001b[43m)\u001b[49m\n\u001b[0;32m    110\u001b[0m     \u001b[38;5;28;01mreturn\u001b[39;00m res\n",
      "File \u001b[1;32mc:\\Users\\thoma\\MA\\TOPGRID-MORL\\MOGrid2Op.py:31\u001b[0m, in \u001b[0;36mTopoActionReward.__call__\u001b[1;34m(self, action, env, has_error, is_done, is_illegal, is_ambiguous)\u001b[0m\n\u001b[0;32m     16\u001b[0m \u001b[38;5;250m\u001b[39m\u001b[38;5;124;03m\"\"\"\u001b[39;00m\n\u001b[0;32m     17\u001b[0m \u001b[38;5;124;03mCompute the reward for the given action in the environment.\u001b[39;00m\n\u001b[0;32m     18\u001b[0m \n\u001b[1;32m   (...)\u001b[0m\n\u001b[0;32m     25\u001b[0m \u001b[38;5;124;03m- reward (float): The computed reward value.\u001b[39;00m\n\u001b[0;32m     26\u001b[0m \u001b[38;5;124;03m\"\"\"\u001b[39;00m\n\u001b[0;32m     27\u001b[0m \u001b[38;5;66;03m# Compute reward based on the impact of action\u001b[39;00m\n\u001b[0;32m     28\u001b[0m \u001b[38;5;66;03m#reward = env.simulate(action)[1]  # Get the simulated reward\u001b[39;00m\n\u001b[0;32m     29\u001b[0m \n\u001b[0;32m     30\u001b[0m \u001b[38;5;66;03m# Penalize the reward if action is taken (negative reward)\u001b[39;00m\n\u001b[1;32m---> 31\u001b[0m nb_mod_objects \u001b[38;5;241m=\u001b[39m \u001b[43menv\u001b[49m\u001b[38;5;241;43m.\u001b[39;49m\u001b[43maction_space\u001b[49m\u001b[38;5;241;43m.\u001b[39;49m\u001b[43mfrom_gym\u001b[49m(action)\u001b[38;5;241m.\u001b[39mas_dict()[\u001b[38;5;124m'\u001b[39m\u001b[38;5;124mset_bus_vect\u001b[39m\u001b[38;5;124m'\u001b[39m][\u001b[38;5;124m'\u001b[39m\u001b[38;5;124mnb_modif_objects\u001b[39m\u001b[38;5;124m'\u001b[39m]\n\u001b[0;32m     32\u001b[0m reward \u001b[38;5;241m=\u001b[39m \u001b[38;5;241m1\u001b[39m \u001b[38;5;241m-\u001b[39m \u001b[38;5;28mself\u001b[39m\u001b[38;5;241m.\u001b[39mpenalty_factor \u001b[38;5;241m*\u001b[39m nb_mod_objects\n\u001b[0;32m     33\u001b[0m \u001b[38;5;28;01mreturn\u001b[39;00m reward\n",
      "\u001b[1;31mAttributeError\u001b[0m: 'ActionSpace_l2rpn_case14_sandbox' object has no attribute 'from_gym'"
     ]
    }
   ],
   "source": [
    "gym_env, obs_dim, action_dim, reward_dim = setup_environment(frist_reward = L2RPNReward, rewards_list=[\"Distance\", \"TopoAction\"])"
   ]
  },
  {
   "cell_type": "code",
   "execution_count": null,
   "metadata": {},
   "outputs": [
    {
     "data": {
      "text/plain": [
       "6"
      ]
     },
     "execution_count": 50,
     "metadata": {},
     "output_type": "execute_result"
    }
   ],
   "source": [
    "action = 50\n",
    "gym_env.action_space.from_gym(action).as_dict()['set_bus_vect']['nb_modif_objects']"
   ]
  },
  {
   "cell_type": "code",
   "execution_count": null,
   "metadata": {},
   "outputs": [],
   "source": [
    "gym_env.reset();"
   ]
  },
  {
   "cell_type": "code",
   "execution_count": null,
   "metadata": {},
   "outputs": [
    {
     "data": {
      "text/plain": [
       "(array([ 1.76769836e+02,  1.60466141e+02,  9.89847412e+01,  1.69941803e+02,\n",
       "         1.45182526e+02,  7.92977219e+01,  1.14005959e+02,  3.50331665e+02,\n",
       "         2.46383347e+02,  6.10960144e+02,  1.28403336e+02,  2.50356232e+02,\n",
       "         2.43742538e+02,  6.97333603e+01,  2.63274841e+02,  1.27753136e+02,\n",
       "         6.33072777e+01,  1.65632950e+02,  9.03989075e+02,  7.24173340e+02,\n",
       "         8.25000000e+01,  8.06999969e+01,  5.30000019e+00,  0.00000000e+00,\n",
       "         0.00000000e+00,  8.01134949e+01,  1.91629467e+01,  7.12430420e+01,\n",
       "         2.44021091e+01,  2.44021091e+01,  2.41126270e+01, -1.66562252e+01,\n",
       "        -1.43289495e+00, -4.04683304e+00, -9.61557388e+00, -9.61557388e+00,\n",
       "        -8.31573296e+00,  0.00000000e+00,  1.42100006e+02,  1.42100006e+02,\n",
       "         2.20000000e+01,  2.20000000e+01,  1.32000008e+01,  1.42100006e+02,\n",
       "         2.20000000e+01,  8.56999969e+01,  4.49000015e+01,  6.80000019e+00,\n",
       "         1.16999998e+01,  2.81000004e+01,  8.80000019e+00,  3.40000010e+00,\n",
       "         5.40000010e+00,  1.28999996e+01,  1.46999998e+01,  1.53999996e+01,\n",
       "         6.00000000e+01,  3.08999996e+01,  4.80000019e+00,  8.19999981e+00,\n",
       "         1.97000008e+01,  6.09999990e+00,  2.50000000e+00,  3.79999995e+00,\n",
       "         8.89999962e+00,  1.03000002e+01, -1.43289495e+00, -4.04683304e+00,\n",
       "        -5.44650793e+00, -4.81536436e+00, -9.61557388e+00, -9.78318024e+00,\n",
       "        -1.00010281e+01, -9.89526653e+00, -1.02147350e+01, -1.02415428e+01,\n",
       "        -1.07529612e+01,  1.42100006e+02,  1.42100006e+02,  1.38639175e+02,\n",
       "         1.39284576e+02,  2.20000000e+01,  2.11252842e+01,  2.11251411e+01,\n",
       "         2.14756470e+01,  2.15724525e+01,  2.14288712e+01,  2.07471428e+01,\n",
       "         4.06344109e+01,  3.94790802e+01,  2.32484818e+01,  4.18238602e+01,\n",
       "         3.57305679e+01,  1.79980431e+01, -2.72739296e+01,  8.00155354e+00,\n",
       "         7.53872585e+00,  1.76141453e+01,  4.40312147e+00,  8.48363495e+00,\n",
       "        -4.40317249e+00,  2.04919124e+00,  6.45414257e+00,  2.60979633e+01,\n",
       "         1.48887939e+01,  3.95544243e+01, -2.77555756e-15, -2.60979633e+01,\n",
       "        -1.55478735e+01, -1.10835218e+00, -7.28302860e+00,  4.98304784e-01,\n",
       "        -4.13925290e-01,  7.54903126e+00, -2.36485863e+00,  1.06856165e+01,\n",
       "         5.59561586e+00,  1.52227869e+01, -1.63902974e+00,  3.45595551e+00,\n",
       "        -7.75574780e+00,  1.60926926e+00,  7.33687830e+00, -1.61244450e+01,\n",
       "        -3.06986690e+00, -5.66904926e+00, -2.32662067e+01, -4.58438110e+00,\n",
       "         3.26746464e-01,  3.56591433e-01,  2.63959318e-01,  2.67204106e-01,\n",
       "         8.29614460e-01,  2.78237611e-01,  3.40316296e-01,  5.33229351e-01,\n",
       "         4.96740609e-01,  7.38766789e-01,  2.90505290e-01,  3.90571356e-01,\n",
       "         2.90169686e-01,  4.47008729e-01,  3.96498263e-01,  5.43630362e-01,\n",
       "         5.31993926e-01,  9.25323725e-01,  4.55180794e-01,  4.60670054e-01,\n",
       "         0.00000000e+00,  0.00000000e+00, -1.43289495e+00, -1.43289495e+00,\n",
       "        -1.43289495e+00, -4.04683304e+00, -5.44650793e+00, -9.61557388e+00,\n",
       "        -9.61557388e+00, -9.61557388e+00, -9.78318024e+00, -9.78318024e+00,\n",
       "        -1.00010281e+01, -1.02147350e+01, -1.02415428e+01, -5.44650793e+00,\n",
       "        -5.44650793e+00, -4.81536436e+00, -8.31573296e+00, -9.78318024e+00,\n",
       "         1.00000000e+00,  1.00000000e+00,  1.00000000e+00,  1.00000000e+00,\n",
       "         1.00000000e+00,  1.00000000e+00,  1.00000000e+00,  1.00000000e+00,\n",
       "         1.00000000e+00,  1.00000000e+00,  1.00000000e+00,  1.00000000e+00,\n",
       "         1.00000000e+00,  1.00000000e+00,  1.00000000e+00,  1.00000000e+00,\n",
       "         1.00000000e+00,  1.00000000e+00,  1.00000000e+00,  1.00000000e+00,\n",
       "         1.00000000e+00,  1.00000000e+00,  1.00000000e+00,  1.00000000e+00,\n",
       "         1.00000000e+00,  1.00000000e+00,  1.00000000e+00,  1.00000000e+00,\n",
       "         1.00000000e+00,  1.00000000e+00,  1.00000000e+00,  1.00000000e+00,\n",
       "         1.00000000e+00,  1.00000000e+00,  1.00000000e+00,  1.00000000e+00,\n",
       "         1.00000000e+00,  1.00000000e+00,  1.00000000e+00,  1.00000000e+00,\n",
       "         1.00000000e+00,  1.00000000e+00,  1.00000000e+00,  1.00000000e+00,\n",
       "         1.00000000e+00,  1.00000000e+00,  1.00000000e+00,  1.00000000e+00,\n",
       "         1.00000000e+00,  1.00000000e+00,  1.00000000e+00,  1.00000000e+00,\n",
       "         1.00000000e+00,  1.00000000e+00,  1.00000000e+00,  1.00000000e+00,\n",
       "         1.00000000e+00,  1.42100006e+02,  1.42100006e+02,  1.42100006e+02,\n",
       "         1.42100006e+02,  1.42100006e+02,  1.42100006e+02,  1.38639175e+02,\n",
       "         2.20000000e+01,  2.20000000e+01,  2.20000000e+01,  2.11252842e+01,\n",
       "         2.11252842e+01,  2.11251411e+01,  2.15724525e+01,  2.14288712e+01,\n",
       "         1.38639175e+02,  1.38639175e+02,  1.39284576e+02,  1.48594170e+01,\n",
       "         2.11252842e+01], dtype=float32),\n",
       " array([15.13782883,  1.        ,  0.1       ]),\n",
       " False,\n",
       " {'disc_lines': array([-1, -1, -1, -1, -1, -1, -1, -1, -1, -1, -1, -1, -1, -1, -1, -1, -1,\n",
       "         -1, -1, -1]),\n",
       "  'is_illegal': False,\n",
       "  'is_ambiguous': False,\n",
       "  'is_dispatching_illegal': False,\n",
       "  'is_illegal_reco': False,\n",
       "  'reason_alarm_illegal': None,\n",
       "  'reason_alert_illegal': None,\n",
       "  'opponent_attack_line': None,\n",
       "  'opponent_attack_sub': None,\n",
       "  'opponent_attack_duration': 0,\n",
       "  'exception': [],\n",
       "  'time_series_id': 'C:\\\\Users\\\\thoma\\\\data_grid2op\\\\l2rpn_case14_sandbox\\\\chronics\\\\0001',\n",
       "  'rewards': {'Distance': 1.0, 'TopoAction': 0.1}})"
      ]
     },
     "execution_count": 5,
     "metadata": {},
     "output_type": "execute_result"
    }
   ],
   "source": [
    "gym_env.step(0)"
   ]
  },
  {
   "cell_type": "code",
   "execution_count": null,
   "metadata": {},
   "outputs": [],
   "source": []
  },
  {
   "cell_type": "code",
   "execution_count": null,
   "metadata": {},
   "outputs": [],
   "source": []
  }
 ],
 "metadata": {
  "kernelspec": {
   "display_name": "TOPGRID_MORL",
   "language": "python",
   "name": "python3"
  },
  "language_info": {
   "codemirror_mode": {
    "name": "ipython",
    "version": 3
   },
   "file_extension": ".py",
   "mimetype": "text/x-python",
   "name": "python",
   "nbconvert_exporter": "python",
   "pygments_lexer": "ipython3",
   "version": "3.12.3"
  }
 },
 "nbformat": 4,
 "nbformat_minor": 2
}
