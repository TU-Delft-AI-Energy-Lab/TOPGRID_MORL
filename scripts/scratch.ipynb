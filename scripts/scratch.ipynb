{
 "cells": [
  {
   "cell_type": "code",
   "execution_count": 1,
   "metadata": {},
   "outputs": [
    {
     "name": "stderr",
     "output_type": "stream",
     "text": [
      "c:\\Users\\thoma\\anaconda3\\envs\\repl\\Lib\\site-packages\\grid2op\\Backend\\pandaPowerBackend.py:32: UserWarning: Numba cannot be loaded. You will gain possibly massive speed if installing it by \n",
      "\tc:\\Users\\thoma\\anaconda3\\envs\\repl\\python.exe -m pip install numba\n",
      "\n",
      "  warnings.warn(\n",
      "2024-07-30 09:50:30,779 - INFO - The rewards are <class 'topgrid_morl.envs.GridRewards.ScaledEpisodeDurationReward'>, <class 'topgrid_morl.envs.GridRewards.ScaledLinesCapacityReward'>, <class 'topgrid_morl.envs.GridRewards.ScaledTopoActionReward'>\n"
     ]
    },
    {
     "ename": "FileNotFoundError",
     "evalue": "[Errno 2] No such file or directory: 'configs/base_config.json'",
     "output_type": "error",
     "traceback": [
      "\u001b[1;31m---------------------------------------------------------------------------\u001b[0m",
      "\u001b[1;31mFileNotFoundError\u001b[0m                         Traceback (most recent call last)",
      "Cell \u001b[1;32mIn[1], line 18\u001b[0m\n\u001b[0;32m     16\u001b[0m seed \u001b[38;5;241m=\u001b[39m \u001b[38;5;241m71\u001b[39m\n\u001b[0;32m     17\u001b[0m     \u001b[38;5;66;03m# Load configuration from file\u001b[39;00m\n\u001b[1;32m---> 18\u001b[0m \u001b[38;5;28;01mwith\u001b[39;00m \u001b[38;5;28;43mopen\u001b[39;49m\u001b[43m(\u001b[49m\u001b[43mconfig_path\u001b[49m\u001b[43m,\u001b[49m\u001b[43m \u001b[49m\u001b[38;5;124;43m'\u001b[39;49m\u001b[38;5;124;43mr\u001b[39;49m\u001b[38;5;124;43m'\u001b[39;49m\u001b[43m)\u001b[49m \u001b[38;5;28;01mas\u001b[39;00m config_file:\n\u001b[0;32m     19\u001b[0m     config \u001b[38;5;241m=\u001b[39m json\u001b[38;5;241m.\u001b[39mload(config_file)\n\u001b[0;32m     21\u001b[0m agent_params \u001b[38;5;241m=\u001b[39m config[\u001b[38;5;124m\"\u001b[39m\u001b[38;5;124magent_params\u001b[39m\u001b[38;5;124m\"\u001b[39m]\n",
      "File \u001b[1;32mc:\\Users\\thoma\\anaconda3\\envs\\repl\\Lib\\site-packages\\IPython\\core\\interactiveshell.py:324\u001b[0m, in \u001b[0;36m_modified_open\u001b[1;34m(file, *args, **kwargs)\u001b[0m\n\u001b[0;32m    317\u001b[0m \u001b[38;5;28;01mif\u001b[39;00m file \u001b[38;5;129;01min\u001b[39;00m {\u001b[38;5;241m0\u001b[39m, \u001b[38;5;241m1\u001b[39m, \u001b[38;5;241m2\u001b[39m}:\n\u001b[0;32m    318\u001b[0m     \u001b[38;5;28;01mraise\u001b[39;00m \u001b[38;5;167;01mValueError\u001b[39;00m(\n\u001b[0;32m    319\u001b[0m         \u001b[38;5;124mf\u001b[39m\u001b[38;5;124m\"\u001b[39m\u001b[38;5;124mIPython won\u001b[39m\u001b[38;5;124m'\u001b[39m\u001b[38;5;124mt let you open fd=\u001b[39m\u001b[38;5;132;01m{\u001b[39;00mfile\u001b[38;5;132;01m}\u001b[39;00m\u001b[38;5;124m by default \u001b[39m\u001b[38;5;124m\"\u001b[39m\n\u001b[0;32m    320\u001b[0m         \u001b[38;5;124m\"\u001b[39m\u001b[38;5;124mas it is likely to crash IPython. If you know what you are doing, \u001b[39m\u001b[38;5;124m\"\u001b[39m\n\u001b[0;32m    321\u001b[0m         \u001b[38;5;124m\"\u001b[39m\u001b[38;5;124myou can use builtins\u001b[39m\u001b[38;5;124m'\u001b[39m\u001b[38;5;124m open.\u001b[39m\u001b[38;5;124m\"\u001b[39m\n\u001b[0;32m    322\u001b[0m     )\n\u001b[1;32m--> 324\u001b[0m \u001b[38;5;28;01mreturn\u001b[39;00m \u001b[43mio_open\u001b[49m\u001b[43m(\u001b[49m\u001b[43mfile\u001b[49m\u001b[43m,\u001b[49m\u001b[43m \u001b[49m\u001b[38;5;241;43m*\u001b[39;49m\u001b[43margs\u001b[49m\u001b[43m,\u001b[49m\u001b[43m \u001b[49m\u001b[38;5;241;43m*\u001b[39;49m\u001b[38;5;241;43m*\u001b[39;49m\u001b[43mkwargs\u001b[49m\u001b[43m)\u001b[49m\n",
      "\u001b[1;31mFileNotFoundError\u001b[0m: [Errno 2] No such file or directory: 'configs/base_config.json'"
     ]
    }
   ],
   "source": [
    "import argparse\n",
    "import json\n",
    "\n",
    "import numpy as np\n",
    "from grid2op.Reward import EpisodeDurationReward\n",
    "\n",
    "from topgrid_morl.envs.GridRewards import ScaledEpisodeDurationReward, ScaledTopoActionReward\n",
    "from topgrid_morl.envs.EnvSetup import setup_environment\n",
    "from topgrid_morl.utils.MO_PPO_train_utils import train_agent\n",
    "#from topgrid_morl.agent.MO_BaselineAgents import DoNothingAgent, PPOAgent  # Import the DoNothingAgent class\n",
    "\n",
    "env_name = \"rte_case5_example\"\n",
    "seed = 42\n",
    "\n",
    "\n",
    "    # Step 1: Setup Environment\n",
    "if env_name == \"rte_case5_example\":\n",
    "    results_dir = \"training_results_5bus_4094\"\n",
    "    action_dim = 53\n",
    "    test_flag = True\n",
    "    actions_file = 'filtered_actions.json'\n",
    "\n",
    "\n",
    "gym_env, obs_dim, action_dim, reward_dim = setup_environment(\n",
    "        env_name=env_name,\n",
    "        test=False,\n",
    "        seed=seed,\n",
    "        action_space=53,\n",
    "        first_reward=ScaledEpisodeDurationReward,\n",
    "        rewards_list=[\"ScaledLinesCapacity\", \"ScaledTopoAction\"],\n",
    "        actions_file=actions_file\n",
    "    )\n",
    "obs = gym_env.reset(options={\"time serie id\": \"01\"} )\n",
    "obs, reward, done, info = gym_env.step(1)\n",
    "gym_env.chronics_handler.get_available_chronics()\n",
    "print(info)"
   ]
  }
 ],
 "metadata": {
  "kernelspec": {
   "display_name": "repl",
   "language": "python",
   "name": "python3"
  },
  "language_info": {
   "codemirror_mode": {
    "name": "ipython",
    "version": 3
   },
   "file_extension": ".py",
   "mimetype": "text/x-python",
   "name": "python",
   "nbconvert_exporter": "python",
   "pygments_lexer": "ipython3",
   "version": "3.12.4"
  }
 },
 "nbformat": 4,
 "nbformat_minor": 2
}
