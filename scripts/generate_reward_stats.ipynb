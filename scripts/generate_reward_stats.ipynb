{
 "cells": [
  {
   "cell_type": "code",
   "execution_count": 1,
   "metadata": {},
   "outputs": [
    {
     "name": "stderr",
     "output_type": "stream",
     "text": [
      "c:\\Users\\thoma\\anaconda3\\envs\\repl\\Lib\\site-packages\\grid2op\\Backend\\pandaPowerBackend.py:32: UserWarning: Numba cannot be loaded. You will gain possibly massive speed if installing it by \n",
      "\tc:\\Users\\thoma\\anaconda3\\envs\\repl\\python.exe -m pip install numba\n",
      "\n",
      "  warnings.warn(\n",
      "c:\\Users\\thoma\\anaconda3\\envs\\repl\\Lib\\site-packages\\grid2op\\MakeEnv\\Make.py:438: UserWarning: You are using a development environment. This environment is not intended for training agents. It might not be up to date and its primary use if for tests (hence the \"test=True\" you passed as argument). Use at your own risk.\n",
      "  warnings.warn(_MAKE_DEV_ENV_WARN)\n"
     ]
    },
    {
     "name": "stdout",
     "output_type": "stream",
     "text": [
      "The results for the evaluated agent are:\n",
      "\tFor chronics with id 00\n",
      "\t\t - cumulative reward: 219.777802\n",
      "\t\t - number of time steps completed: 30 / 30\n",
      "\tFor chronics with id 01\n",
      "\t\t - cumulative reward: 215.894333\n",
      "\t\t - number of time steps completed: 30 / 30\n",
      "[('c:\\\\Users\\\\thoma\\\\anaconda3\\\\envs\\\\repl\\\\Lib\\\\site-packages\\\\grid2op\\\\data\\\\rte_case5_example\\\\chronics\\\\00', '00', 219.77780151367188, 30, 30), ('c:\\\\Users\\\\thoma\\\\anaconda3\\\\envs\\\\repl\\\\Lib\\\\site-packages\\\\grid2op\\\\data\\\\rte_case5_example\\\\chronics\\\\01', '01', 215.8943328857422, 30, 30)]\n"
     ]
    }
   ],
   "source": [
    "import os\n",
    "import sys\n",
    "import grid2op\n",
    "import copy\n",
    "import numpy as np\n",
    "import shutil\n",
    "import plotly.graph_objects as go\n",
    "\n",
    "from tqdm.notebook import tqdm\n",
    "from grid2op.Agent import PowerLineSwitch\n",
    "from grid2op.Reward import L2RPNReward\n",
    "from grid2op.Runner import Runner\n",
    "\n",
    "\n",
    "path_agents = \"Generate Rewards\"\n",
    "max_iter = 30\n",
    "\n",
    "try:\n",
    "    # use a (way) faster backend to reduce computation time\n",
    "    # to use it, you need to install `pip install lightsim2grid`\n",
    "    from lightsim2grid import LightSimBackend\n",
    "    bk_cls = LightSimBackend\n",
    "except ImportError as exc:\n",
    "    print(f\"Error: {exc} when importing faster LightSimBackend\")\n",
    "    from grid2op.Backend import PandaPowerBackend\n",
    "    bk_cls = PandaPowerBackend\n",
    "    \n",
    "scoring_function = L2RPNReward\n",
    "env_name = \"rte_case5_example\"\n",
    "env = grid2op.make(env_name, reward_class=L2RPNReward, test=True, backend=bk_cls())\n",
    "if not os.path.exists(path_agents):\n",
    "    os.mkdir(path_agents)\n",
    "\n",
    "# make a runner for this agent\n",
    "path_agent = os.path.join(path_agents, \"PowerLineSwitch\")\n",
    "shutil.rmtree(os.path.abspath(path_agent), ignore_errors=True)\n",
    "\n",
    "    \n",
    "print(res)"
   ]
  },
  {
   "cell_type": "code",
   "execution_count": 2,
   "metadata": {},
   "outputs": [
    {
     "data": {
      "text/plain": [
       "[('c:\\\\Users\\\\thoma\\\\anaconda3\\\\envs\\\\repl\\\\Lib\\\\site-packages\\\\grid2op\\\\data\\\\rte_case5_example\\\\chronics\\\\00',\n",
       "  '00',\n",
       "  219.77780151367188,\n",
       "  30,\n",
       "  30),\n",
       " ('c:\\\\Users\\\\thoma\\\\anaconda3\\\\envs\\\\repl\\\\Lib\\\\site-packages\\\\grid2op\\\\data\\\\rte_case5_example\\\\chronics\\\\01',\n",
       "  '01',\n",
       "  215.8943328857422,\n",
       "  30,\n",
       "  30)]"
      ]
     },
     "execution_count": 2,
     "metadata": {},
     "output_type": "execute_result"
    }
   ],
   "source": [
    "res"
   ]
  },
  {
   "cell_type": "code",
   "execution_count": null,
   "metadata": {},
   "outputs": [],
   "source": [
    "np.load()"
   ]
  }
 ],
 "metadata": {
  "kernelspec": {
   "display_name": "repl",
   "language": "python",
   "name": "python3"
  },
  "language_info": {
   "codemirror_mode": {
    "name": "ipython",
    "version": 3
   },
   "file_extension": ".py",
   "mimetype": "text/x-python",
   "name": "python",
   "nbconvert_exporter": "python",
   "pygments_lexer": "ipython3",
   "version": "3.12.4"
  }
 },
 "nbformat": 4,
 "nbformat_minor": 2
}
